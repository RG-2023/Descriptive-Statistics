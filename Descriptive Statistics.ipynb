{
 "cells": [
  {
   "cell_type": "markdown",
   "id": "5773bc35",
   "metadata": {},
   "source": [
    "## Importing libraries"
   ]
  },
  {
   "cell_type": "code",
   "execution_count": 1,
   "id": "2ab2f89e",
   "metadata": {},
   "outputs": [],
   "source": [
    "import numpy as np\n",
    "import matplotlib.pyplot as plt\n",
    "import scipy.stats as st"
   ]
  },
  {
   "cell_type": "markdown",
   "id": "45e023f6",
   "metadata": {},
   "source": [
    "## Loading in data "
   ]
  },
  {
   "cell_type": "markdown",
   "id": "65264273",
   "metadata": {},
   "source": [
    "**One-dimensional (1D) or univariate data**"
   ]
  },
  {
   "cell_type": "code",
   "execution_count": 2,
   "id": "3486e0d7",
   "metadata": {},
   "outputs": [],
   "source": [
    "data = np.loadtxt('dataset.txt')"
   ]
  },
  {
   "cell_type": "code",
   "execution_count": 3,
   "id": "660a75d8",
   "metadata": {},
   "outputs": [
    {
     "data": {
      "text/plain": [
       "array([ 5.844,  9.886,  7.638, ...,  6.564, 11.343,  5.223])"
      ]
     },
     "execution_count": 3,
     "metadata": {},
     "output_type": "execute_result"
    }
   ],
   "source": [
    "data"
   ]
  },
  {
   "cell_type": "markdown",
   "id": "564c797a",
   "metadata": {},
   "source": [
    "## Plotting histogram "
   ]
  },
  {
   "cell_type": "code",
   "execution_count": 4,
   "id": "f2f1bfb1",
   "metadata": {},
   "outputs": [
    {
     "data": {
      "image/png": "[encoded data removed]",
      "text/plain": [
       "<Figure size 640x480 with 1 Axes>"
      ]
     },
     "metadata": {},
     "output_type": "display_data"
    }
   ],
   "source": [
    "plt.hist(data);"
   ]
  },
  {
   "cell_type": "markdown",
   "id": "190e1fcf",
   "metadata": {},
   "source": [
    "## I. Measures of Central Tendency (Centrality)"
   ]
  },
  {
   "cell_type": "markdown",
   "id": "77efb548",
   "metadata": {},
   "source": [
    "### Calculating mean and median with NumPy"
   ]
  },
  {
   "cell_type": "markdown",
   "id": "1a83bc68",
   "metadata": {},
   "source": [
    "### *Mean*"
   ]
  },
  {
   "cell_type": "markdown",
   "id": "88bbc120",
   "metadata": {},
   "source": [
    "**Arithmetic mean**"
   ]
  },
  {
   "cell_type": "code",
   "execution_count": 5,
   "id": "f610b535",
   "metadata": {},
   "outputs": [
    {
     "data": {
      "text/plain": [
       "7.68805056"
      ]
     },
     "execution_count": 5,
     "metadata": {},
     "output_type": "execute_result"
    }
   ],
   "source": [
    "np.mean(data)"
   ]
  },
  {
   "cell_type": "code",
   "execution_count": 6,
   "id": "461fbd66",
   "metadata": {},
   "outputs": [
    {
     "data": {
      "text/plain": [
       "7.68805056"
      ]
     },
     "execution_count": 6,
     "metadata": {},
     "output_type": "execute_result"
    }
   ],
   "source": [
    "data.mean()"
   ]
  },
  {
   "cell_type": "code",
   "execution_count": 7,
   "id": "b35ab48a",
   "metadata": {},
   "outputs": [
    {
     "name": "stdout",
     "output_type": "stream",
     "text": [
      "7.68805056 7.68805056\n"
     ]
    }
   ],
   "source": [
    "print(np.mean(data),data.mean())"
   ]
  },
  {
   "cell_type": "markdown",
   "id": "0c673d5b",
   "metadata": {},
   "source": [
    "**Weighted average**"
   ]
  },
  {
   "cell_type": "code",
   "execution_count": 8,
   "id": "f68446ed",
   "metadata": {},
   "outputs": [
    {
     "name": "stdout",
     "output_type": "stream",
     "text": [
      "7.68805056\n"
     ]
    }
   ],
   "source": [
    "weight_ave = np.average(data)\n",
    "print(weight_ave)"
   ]
  },
  {
   "cell_type": "markdown",
   "id": "899b2f98",
   "metadata": {},
   "source": [
    "### *Median*"
   ]
  },
  {
   "cell_type": "code",
   "execution_count": 9,
   "id": "10b72b3f",
   "metadata": {},
   "outputs": [
    {
     "name": "stdout",
     "output_type": "stream",
     "text": [
      "6.7325\n"
     ]
    }
   ],
   "source": [
    "medi = np.median(data)\n",
    "print(medi)"
   ]
  },
  {
   "cell_type": "markdown",
   "id": "e8ccf523",
   "metadata": {},
   "source": [
    "### *Mode*"
   ]
  },
  {
   "cell_type": "markdown",
   "id": "76724b25",
   "metadata": {},
   "source": [
    "**Calculating mode with SciPy (using scipy.stats)**"
   ]
  },
  {
   "cell_type": "code",
   "execution_count": 10,
   "id": "076d5f00",
   "metadata": {},
   "outputs": [
    {
     "name": "stdout",
     "output_type": "stream",
     "text": [
      "ModeResult(mode=5.519, count=9)\n"
     ]
    }
   ],
   "source": [
    "mode = st.mode(data)\n",
    "print(mode)"
   ]
  },
  {
   "cell_type": "markdown",
   "id": "5c39aa5c",
   "metadata": {},
   "source": [
    "## II. Measures of Variablity (using NumPy)"
   ]
  },
  {
   "cell_type": "markdown",
   "id": "70a2c0fb",
   "metadata": {},
   "source": [
    "### *Variance*"
   ]
  },
  {
   "cell_type": "code",
   "execution_count": 11,
   "id": "19c9ae20",
   "metadata": {},
   "outputs": [
    {
     "name": "stdout",
     "output_type": "stream",
     "text": [
      "13.136575622563686\n"
     ]
    }
   ],
   "source": [
    "variance = np.var(data)\n",
    "print(variance)"
   ]
  },
  {
   "cell_type": "markdown",
   "id": "97ebcb71",
   "metadata": {},
   "source": [
    "### *Standard Deviation*"
   ]
  },
  {
   "cell_type": "code",
   "execution_count": 12,
   "id": "9dfeef48",
   "metadata": {},
   "outputs": [
    {
     "name": "stdout",
     "output_type": "stream",
     "text": [
      "3.6244414221454435 13.136575622563685\n"
     ]
    }
   ],
   "source": [
    "std = np.std(data)\n",
    "print(std,std**2)"
   ]
  },
  {
   "cell_type": "markdown",
   "id": "e6f72e74",
   "metadata": {},
   "source": [
    "### *Coefficient of variation (for a 1D array)*"
   ]
  },
  {
   "cell_type": "code",
   "execution_count": 13,
   "id": "84d005bb",
   "metadata": {},
   "outputs": [
    {
     "name": "stdout",
     "output_type": "stream",
     "text": [
      "0.47145715031582325\n"
     ]
    }
   ],
   "source": [
    "coeff_var = np.std(data,ddof=1)/np.mean(data)\n",
    "print(coeff_var)"
   ]
  },
  {
   "cell_type": "markdown",
   "id": "2cd41bbe",
   "metadata": {},
   "source": [
    "## III. Measures of Asymmetry (using SciPy)"
   ]
  },
  {
   "cell_type": "markdown",
   "id": "3b75edc0",
   "metadata": {},
   "source": [
    "### *Skewness*"
   ]
  },
  {
   "cell_type": "code",
   "execution_count": 14,
   "id": "6eae34f5",
   "metadata": {},
   "outputs": [
    {
     "name": "stdout",
     "output_type": "stream",
     "text": [
      "0.7408773663373577\n"
     ]
    }
   ],
   "source": [
    "skewness = st.skew(data)\n",
    "print(skewness)"
   ]
  },
  {
   "cell_type": "markdown",
   "id": "811d0e67",
   "metadata": {},
   "source": [
    "### *Kurtosis*"
   ]
  },
  {
   "cell_type": "code",
   "execution_count": 15,
   "id": "93359c5a",
   "metadata": {},
   "outputs": [
    {
     "name": "stdout",
     "output_type": "stream",
     "text": [
      "0.5517538497309498\n"
     ]
    }
   ],
   "source": [
    "kurtosis = st.kurtosis(data)\n",
    "print(kurtosis)"
   ]
  },
  {
   "cell_type": "markdown",
   "id": "808ffd47",
   "metadata": {},
   "source": [
    "## IV. \"Measures of relationship\" between two variables (for multivariate or ND distribution)"
   ]
  },
  {
   "cell_type": "markdown",
   "id": "2cb76630",
   "metadata": {},
   "source": [
    "**Importing library**"
   ]
  },
  {
   "cell_type": "code",
   "execution_count": 16,
   "id": "440c1f55",
   "metadata": {},
   "outputs": [],
   "source": [
    "import pandas as pd"
   ]
  },
  {
   "cell_type": "markdown",
   "id": "bf16e3d5",
   "metadata": {},
   "source": [
    "**Loading in multivariate (ND) data**"
   ]
  },
  {
   "cell_type": "code",
   "execution_count": 17,
   "id": "ed169d96",
   "metadata": {},
   "outputs": [
    {
     "data": {
      "text/html": [
       "<div>\n",
       "<style scoped>\n",
       "    .dataframe tbody tr th:only-of-type {\n",
       "        vertical-align: middle;\n",
       "    }\n",
       "\n",
       "    .dataframe tbody tr th {\n",
       "        vertical-align: top;\n",
       "    }\n",
       "\n",
       "    .dataframe thead th {\n",
       "        text-align: right;\n",
       "    }\n",
       "</style>\n",
       "<table border=\"1\" class=\"dataframe\">\n",
       "  <thead>\n",
       "    <tr style=\"text-align: right;\">\n",
       "      <th></th>\n",
       "      <th>height</th>\n",
       "      <th>weight</th>\n",
       "    </tr>\n",
       "  </thead>\n",
       "  <tbody>\n",
       "    <tr>\n",
       "      <th>0</th>\n",
       "      <td>71.74</td>\n",
       "      <td>259.88</td>\n",
       "    </tr>\n",
       "    <tr>\n",
       "      <th>1</th>\n",
       "      <td>71.00</td>\n",
       "      <td>186.73</td>\n",
       "    </tr>\n",
       "    <tr>\n",
       "      <th>2</th>\n",
       "      <td>63.83</td>\n",
       "      <td>172.17</td>\n",
       "    </tr>\n",
       "    <tr>\n",
       "      <th>3</th>\n",
       "      <td>67.74</td>\n",
       "      <td>174.66</td>\n",
       "    </tr>\n",
       "    <tr>\n",
       "      <th>4</th>\n",
       "      <td>67.28</td>\n",
       "      <td>169.20</td>\n",
       "    </tr>\n",
       "  </tbody>\n",
       "</table>\n",
       "</div>"
      ],
      "text/plain": [
       "   height  weight\n",
       "0   71.74  259.88\n",
       "1   71.00  186.73\n",
       "2   63.83  172.17\n",
       "3   67.74  174.66\n",
       "4   67.28  169.20"
      ]
     },
     "execution_count": 17,
     "metadata": {},
     "output_type": "execute_result"
    }
   ],
   "source": [
    "dataset = pd.read_csv('height_weight.csv')[['height','weight']]\n",
    "dataset.head()"
   ]
  },
  {
   "cell_type": "markdown",
   "id": "1bbab7c6",
   "metadata": {},
   "source": [
    "### *Covariance*"
   ]
  },
  {
   "cell_type": "markdown",
   "id": "9c771a16",
   "metadata": {},
   "source": [
    "**Using NumPy**"
   ]
  },
  {
   "cell_type": "code",
   "execution_count": 18,
   "id": "805a3891",
   "metadata": {},
   "outputs": [
    {
     "name": "stdout",
     "output_type": "stream",
     "text": [
      "[[  18.60200779   78.50218098]\n",
      " [  78.50218098 1512.91208783]]\n"
     ]
    }
   ],
   "source": [
    "covariance = np.cov(dataset,rowvar=False)\n",
    "print(covariance)"
   ]
  },
  {
   "cell_type": "markdown",
   "id": "e74ac617",
   "metadata": {},
   "source": [
    "**Using Pandas**"
   ]
  },
  {
   "cell_type": "code",
   "execution_count": 19,
   "id": "e0cb0d65",
   "metadata": {},
   "outputs": [
    {
     "name": "stdout",
     "output_type": "stream",
     "text": [
      "           height       weight\n",
      "height  18.602008    78.502181\n",
      "weight  78.502181  1512.912088\n"
     ]
    }
   ],
   "source": [
    "covariance = dataset.cov()\n",
    "print(covariance)"
   ]
  },
  {
   "cell_type": "markdown",
   "id": "74e2a916",
   "metadata": {},
   "source": [
    "### *Correlation coefficient*"
   ]
  },
  {
   "cell_type": "markdown",
   "id": "c1baeb5e",
   "metadata": {},
   "source": [
    "**Using NumPy**"
   ]
  },
  {
   "cell_type": "code",
   "execution_count": 20,
   "id": "5585817e",
   "metadata": {},
   "outputs": [
    {
     "name": "stdout",
     "output_type": "stream",
     "text": [
      "[[1.         0.46794517]\n",
      " [0.46794517 1.        ]]\n"
     ]
    }
   ],
   "source": [
    "cor = np.corrcoef(dataset,rowvar=False)\n",
    "print(cor)"
   ]
  },
  {
   "cell_type": "markdown",
   "id": "7999699d",
   "metadata": {},
   "source": [
    "**Using Pandas** "
   ]
  },
  {
   "cell_type": "code",
   "execution_count": 21,
   "id": "94eb29b3",
   "metadata": {},
   "outputs": [
    {
     "name": "stdout",
     "output_type": "stream",
     "text": [
      "          height    weight\n",
      "height  1.000000  0.467945\n",
      "weight  0.467945  1.000000\n"
     ]
    }
   ],
   "source": [
    "cor = dataset.corr()\n",
    "print(cor)"
   ]
  },
  {
   "cell_type": "code",
   "execution_count": null,
   "id": "ff1b00f0",
   "metadata": {},
   "outputs": [],
   "source": []
  }
 ],
 "metadata": {
  "kernelspec": {
   "display_name": "Python 3 (ipykernel)",
   "language": "python",
   "name": "python3"
  },
  "language_info": {
   "codemirror_mode": {
    "name": "ipython",
    "version": 3
   },
   "file_extension": ".py",
   "mimetype": "text/x-python",
   "name": "python",
   "nbconvert_exporter": "python",
   "pygments_lexer": "ipython3",
   "version": "3.10.16"
  }
 },
 "nbformat": 4,
 "nbformat_minor": 5
}
